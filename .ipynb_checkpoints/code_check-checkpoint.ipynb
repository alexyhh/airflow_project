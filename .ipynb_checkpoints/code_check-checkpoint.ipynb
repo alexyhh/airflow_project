{
 "cells": [
  {
   "cell_type": "code",
   "execution_count": 4,
   "id": "abbf9b4c-650c-4398-a2f6-f5343fb38d73",
   "metadata": {},
   "outputs": [
    {
     "data": {
      "text/plain": [
       "<sqlalchemy.engine.base.Connection at 0x7f44eff05190>"
      ]
     },
     "execution_count": 4,
     "metadata": {},
     "output_type": "execute_result"
    }
   ],
   "source": [
    "# create_db.py\n",
    "import os\n",
    "from sqlalchemy import create_engine\n",
    "\n",
    "# Replace \"sqlite:///absolute/path/to/your/database.db\" with your actual connection string\n",
    "db_filename = \"database.db\"\n",
    "db_path = os.path.expanduser(f\"~/Desktop/DataEngineering/{db_filename}\")\n",
    "db_connection = f\"sqlite:///{db_path}\"\n",
    "\n",
    "engine = create_engine(db_connection)\n",
    "engine.connect()"
   ]
  },
  {
   "cell_type": "code",
   "execution_count": 5,
   "id": "7c4ba12f-2ecf-439a-98ed-4a859f072a49",
   "metadata": {},
   "outputs": [
    {
     "name": "stdout",
     "output_type": "stream",
     "text": [
      "    A     B   C     D\n",
      "0   1   2.0   3   4.0\n",
      "1   5   NaN   7   8.0\n",
      "2   9  10.0  11  12.0\n",
      "3  13  14.0  15   NaN\n"
     ]
    }
   ],
   "source": [
    "#extract_data.py\n",
    "import pandas as pd\n",
    "\n",
    "def extract_data(csv_path):\n",
    "    return pd.read_csv(csv_path)\n",
    "\n",
    "if __name__ == \"__main__\":\n",
    "    data = extract_data(\"/home/alex/Desktop/DataEngineering/Data in csv/source_data.csv\")\n",
    "    print(data.head())"
   ]
  },
  {
   "cell_type": "code",
   "execution_count": 11,
   "id": "62616700-5751-4b0f-a38a-598ed9e43d1c",
   "metadata": {},
   "outputs": [
    {
     "name": "stdout",
     "output_type": "stream",
     "text": [
      "   A     B   C     D\n",
      "0  1   2.0   3   4.0\n",
      "2  9  10.0  11  12.0\n"
     ]
    }
   ],
   "source": [
    "#clean_data.py\n",
    "import pandas as pd\n",
    "\n",
    "\n",
    "def clean_data(csv_path):\n",
    "    data =  pd.read_csv(csv_path)\n",
    "    # Perform cleaning\n",
    "    cleaned_data = data.dropna()\n",
    "\n",
    "    \n",
    "\n",
    "    return cleaned_data\n",
    "\n",
    "\n",
    "if __name__ == \"__main__\":\n",
    "    # Assuming you've already extracted data in the previous step\n",
    "    # Replace \"path/to/your/data.csv\" with the actual path\n",
    "    cleaned_data = clean_data(\"/home/alex/Desktop/DataEngineering/Data in csv/source_data.csv\")\n",
    "\n",
    "    print(cleaned_data.head())"
   ]
  },
  {
   "cell_type": "code",
   "execution_count": 16,
   "id": "2fd96734-f1a1-40cd-9d8a-eaee90e67532",
   "metadata": {},
   "outputs": [
    {
     "ename": "NameError",
     "evalue": "name 'kwargs' is not defined",
     "output_type": "error",
     "traceback": [
      "\u001b[0;31m---------------------------------------------------------------------------\u001b[0m",
      "\u001b[0;31mNameError\u001b[0m                                 Traceback (most recent call last)",
      "Cell \u001b[0;32mIn[16], line 42\u001b[0m\n\u001b[1;32m     36\u001b[0m     cleaned_data\u001b[38;5;241m.\u001b[39mto_sql(\u001b[38;5;124m\"\u001b[39m\u001b[38;5;124mdata_table\u001b[39m\u001b[38;5;124m\"\u001b[39m, con\u001b[38;5;241m=\u001b[39mengine, index\u001b[38;5;241m=\u001b[39m\u001b[38;5;28;01mFalse\u001b[39;00m, if_exists\u001b[38;5;241m=\u001b[39m\u001b[38;5;124m\"\u001b[39m\u001b[38;5;124mreplace\u001b[39m\u001b[38;5;124m\"\u001b[39m)\n\u001b[1;32m     38\u001b[0m \u001b[38;5;28;01mif\u001b[39;00m \u001b[38;5;18m__name__\u001b[39m \u001b[38;5;241m==\u001b[39m \u001b[38;5;124m\"\u001b[39m\u001b[38;5;124m__main__\u001b[39m\u001b[38;5;124m\"\u001b[39m:\n\u001b[1;32m     39\u001b[0m     \u001b[38;5;66;03m# Assuming you've already cleaned data in the previous step\u001b[39;00m\n\u001b[1;32m     40\u001b[0m     \u001b[38;5;66;03m# Replace \"path/to/your/data_cleaned.csv\" with the actual path\u001b[39;00m\n\u001b[1;32m     41\u001b[0m     \u001b[38;5;66;03m# cleaned_data = pd.read_csv(\"/home/alex/Desktop/DataEngineering/Data in csv/cleaned_data.csv\")\u001b[39;00m\n\u001b[0;32m---> 42\u001b[0m     ti \u001b[38;5;241m=\u001b[39m \u001b[43mkwargs\u001b[49m[\u001b[38;5;124m'\u001b[39m\u001b[38;5;124mti\u001b[39m\u001b[38;5;124m'\u001b[39m]\n\u001b[1;32m     43\u001b[0m     cleaned_data \u001b[38;5;241m=\u001b[39m ti\u001b[38;5;241m.\u001b[39mxcom_pull(task_ids\u001b[38;5;241m=\u001b[39m\u001b[38;5;124m'\u001b[39m\u001b[38;5;124mclean_data\u001b[39m\u001b[38;5;124m'\u001b[39m, key\u001b[38;5;241m=\u001b[39m\u001b[38;5;124m'\u001b[39m\u001b[38;5;124mreturn_value\u001b[39m\u001b[38;5;124m'\u001b[39m)\n\u001b[1;32m     45\u001b[0m     \u001b[38;5;66;03m# Replace \"sqlite:///your_database.db\" with your actual database connection string\u001b[39;00m\n",
      "\u001b[0;31mNameError\u001b[0m: name 'kwargs' is not defined"
     ]
    }
   ],
   "source": [
    "#load_data.py\n",
    "import pandas as pd\n",
    "from sqlalchemy import create_engine, Table, Column, Integer, MetaData\n",
    "from airflow.exceptions import AirflowException\n",
    "\n",
    "def load_data(**kwargs):\n",
    "    # Access cleaned data from XCom\n",
    "    ti = kwargs['ti']\n",
    "    cleaned_data = ti.xcom_pull(task_ids='clean_data', key='return_value')\n",
    "\n",
    "    if not isinstance(cleaned_data, pd.DataFrame):\n",
    "        raise AirflowException(\"XCom returned an unexpected data type. Expected DataFrame.\")\n",
    "\n",
    "    # Your database connection string\n",
    "    db_connection = \"sqlite:////home/alex/Desktop/DataEngineering/database.db\"\n",
    "\n",
    "    # Your code to create table and load data\n",
    "    engine = create_engine(db_connection)\n",
    "    metadata = MetaData()\n",
    "\n",
    "    # Define the structure of your table\n",
    "    data_table = Table(\n",
    "        'data_table',\n",
    "        metadata,\n",
    "        Column('column1', Integer),\n",
    "        Column('column2', Integer),\n",
    "        Column('column3', Integer),\n",
    "        Column('column4', Integer),\n",
    "        # Add more columns as needed\n",
    "    )\n",
    "\n",
    "    # Create the table if it doesn't exist\n",
    "    metadata.create_all(engine)\n",
    "\n",
    "    # Replace \"your_table\" with the actual table name\n",
    "    cleaned_data.to_sql(\"data_table\", con=engine, index=False, if_exists=\"replace\")\n",
    "\n",
    "if __name__ == \"__main__\":\n",
    "    # Assuming you've already cleaned data in the previous step\n",
    "    # Replace \"path/to/your/data_cleaned.csv\" with the actual path\n",
    "    # cleaned_data = pd.read_csv(\"/home/alex/Desktop/DataEngineering/Data in csv/cleaned_data.csv\")\n",
    "    ti = kwargs['ti']\n",
    "    cleaned_data = ti.xcom_pull(task_ids='clean_data', key='return_value')\n",
    "\n",
    "    # Replace \"sqlite:///your_database.db\" with your actual database connection string\n",
    "    db_connection = \"sqlite:////home/alex/Desktop/DataEngineering/database.db\"\n",
    "\n",
    "    load_data(cleaned_data, db_connection=db_connection)"
   ]
  },
  {
   "cell_type": "code",
   "execution_count": null,
   "id": "f70347fb-61db-4b6c-a92b-c58d3163f9db",
   "metadata": {},
   "outputs": [],
   "source": []
  }
 ],
 "metadata": {
  "kernelspec": {
   "display_name": "Python 3 (ipykernel)",
   "language": "python",
   "name": "python3"
  },
  "language_info": {
   "codemirror_mode": {
    "name": "ipython",
    "version": 3
   },
   "file_extension": ".py",
   "mimetype": "text/x-python",
   "name": "python",
   "nbconvert_exporter": "python",
   "pygments_lexer": "ipython3",
   "version": "3.8.10"
  }
 },
 "nbformat": 4,
 "nbformat_minor": 5
}
